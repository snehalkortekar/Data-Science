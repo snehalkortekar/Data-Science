{
  "nbformat": 4,
  "nbformat_minor": 0,
  "metadata": {
    "colab": {
      "name": "Dsassignment3.ipynb",
      "provenance": []
    },
    "kernelspec": {
      "name": "python3",
      "display_name": "Python 3"
    },
    "language_info": {
      "name": "python"
    }
  },
  "cells": [
    {
      "cell_type": "code",
      "execution_count": 1,
      "metadata": {
        "colab": {
          "base_uri": "https://localhost:8080/",
          "height": 130
        },
        "id": "krjStCmo99ck",
        "outputId": "b05acae6-0f82-41fc-fb1f-d9d69d4ee606"
      },
      "outputs": [
        {
          "output_type": "error",
          "ename": "SyntaxError",
          "evalue": "ignored",
          "traceback": [
            "\u001b[0;36m  File \u001b[0;32m\"<ipython-input-1-39c564693298>\"\u001b[0;36m, line \u001b[0;32m1\u001b[0m\n\u001b[0;31m    pip install tweepy\u001b[0m\n\u001b[0m              ^\u001b[0m\n\u001b[0;31mSyntaxError\u001b[0m\u001b[0;31m:\u001b[0m invalid syntax\n"
          ]
        }
      ],
      "source": [
        "pip install tweepy\n",
        "from tweepy import OAuthHandler\n",
        "import tweepy as tw\n",
        "import pandas as pd\n",
        "from pandas import ExcelWriter\n",
        "api_key= 'qdWcSneKdD9aBIK0LpEEqgpxn'\n",
        "api_secret= 'f8TAjG8VJxDu9eTh3n0D1ZQC7fUcmYpsNnOxubVycYypg4YUDO'\n",
        "access_token= '998213423253995521-HyNm0yn6N4Q5yEPo0KzryP5hOl7Qbxw'\n",
        "access_token_secret= 'ufelMpqKVbRuA8xtFqnsthUbTbsdKHdtiVCXNelUwdbU4'\n",
        "auth = tw.OAuthHandler(api_key, api_secret)\n",
        "auth.set_access_token(access_token, access_token_secret)\n",
        "api = tw.API(auth, wait_on_rate_limit=True)\n",
        "\n",
        "tweets = []\n",
        "\n",
        "count = 1\n",
        "\n",
        "\"\"\"Twitter will automatically sample the last 7 days of data. Depending on how many total tweets there are with the specific hashtag, keyword, handle, or key phrase that you are looking for, you can set the date back further by adding since= as one of the parameters. You can also manually add in the number of tweets you want to get back in the items() section.\"\"\"\n",
        "\n",
        "for tweet in tw.Cursor(api.search_tweets, q=\"@NarendraModi\", count=10).items(10):\n",
        "    count += 1\n",
        "    try: \n",
        "        data = [ tweet.created_at, tweet.id, tweet.text, tweet.user._json['screen_name'], tweet.user._json['name'],  tweet.user._json['created_at'],tweet.entities['urls']]\n",
        "        data = tuple(data)\n",
        "        tweets.append(data)\n",
        "\n",
        "    except tw.TweepError as e:\n",
        "        print(e.reason)\n",
        "        continue\n",
        "\n",
        "    except StopIteration:\n",
        "        break\n",
        "\n",
        "df = pd.DataFrame(tweets, columns = ['created_at','tweet_id', 'tweet_text', 'screen_name', 'name','account_creation_date','urls'])\n",
        "\n",
        "\"\"\"Add the path to the folder you want to save the CSV file in as well as what you want the CSV file to be named inside the single quotations\"\"\"\n",
        "df.to_csv(path_or_buf = 'Tweets.csv', index=True)\n",
        "print(\"tweets are added to csv file\")"
      ]
    }
  ]
}