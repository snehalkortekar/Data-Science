{
  "nbformat": 4,
  "nbformat_minor": 0,
  "metadata": {
    "colab": {
      "name": "DSASS1.ipynb",
      "provenance": []
    },
    "kernelspec": {
      "name": "python3",
      "display_name": "Python 3"
    },
    "language_info": {
      "name": "python"
    }
  },
  "cells": [
    {
      "cell_type": "code",
      "execution_count": 1,
      "metadata": {
        "colab": {
          "base_uri": "https://localhost:8080/"
        },
        "id": "MVrDGIOuc4Ra",
        "outputId": "2d7554f4-5986-4a42-dff7-fb226b2f0d06"
      },
      "outputs": [
        {
          "output_type": "stream",
          "name": "stdout",
          "text": [
            "                                     Phone Name Rating    Price\n",
            "0         SAMSUNG Galaxy F12 (Sea Green, 64 GB)    4.3   ₹9,999\n",
            "1          SAMSUNG Galaxy F12 (Sky Blue, 64 GB)    4.3   ₹9,999\n",
            "2   SAMSUNG Galaxy F12 (Celestial Black, 64 GB)    4.3   ₹9,999\n",
            "3         REDMI Note 11S (Horizon Blue, 128 GB)    4.3  ₹16,965\n",
            "4                  POCO C31 (Royal Blue, 64 GB)    4.4   ₹9,499\n",
            "5         REDMI Note 10S (Deep Sea Blue, 64 GB)    4.4  ₹13,999\n",
            "6            realme C11 2021 (Cool Grey, 32 GB)    4.4   ₹7,499\n",
            "7          REDMI Note 10S (Shadow Black, 64 GB)    4.4  ₹13,999\n",
            "8                realme 9i (Prism Blue, 128 GB)    4.4  ₹15,999\n",
            "9               realme 9i (Prism Black, 128 GB)    4.4  ₹15,999\n",
            "10                realme 9i (Prism Blue, 64 GB)    4.5  ₹13,499\n",
            "11               realme 9i (Prism Black, 64 GB)    4.5  ₹13,499\n",
            "12           realme C11 2021 (Cool Blue, 32 GB)    4.4   ₹7,499\n",
            "13           realme C11 2021 (Cool Blue, 64 GB)    4.3   ₹8,999\n",
            "14        REDMI Note 10T 5G (Mint Green, 64 GB)    4.5  ₹12,999\n",
            "15              MOTOROLA G60 (Moonless, 128 GB)    4.2  ₹16,999\n",
            "16               REDMI 10 (Pacific Blue, 64 GB)    4.4  ₹10,999\n",
            "17              realme C25Y (Metal Grey, 64 GB)    4.5  ₹10,999\n",
            "18            realme C25Y (Glacier Blue, 64 GB)    4.5  ₹10,999\n",
            "19    REDMI Note 10T 5G (Graphite Black, 64 GB)    4.5  ₹12,999\n",
            "20              realme 9i (Prism Black, 128 GB)    4.5  ₹14,999\n",
            "21          REDMI 9i Sport (Coral Green, 64 GB)    4.4   ₹8,999\n",
            "22             REDMI 10 (Midnight Black, 64 GB)    4.4  ₹10,999\n",
            "23           realme C11 2021 (Cool Grey, 64 GB)    4.3   ₹8,999\n"
          ]
        }
      ],
      "source": [
        "import requests\n",
        "from bs4 import BeautifulSoup\n",
        "import pandas as pd\n",
        "\n",
        "\n",
        "PhoneName = []\n",
        "PhoneRating = []\n",
        "PhoneSpecs = []\n",
        "Price = []\n",
        "\n",
        "url = \"https://www.flipkart.com/search?q=mobile%20phones&otracker=search&otracker1=search&marketplace=FLIPKART&as-show=on&as=off\"\n",
        "request = requests.get(url).content\n",
        "soup = BeautifulSoup(request, \"html.parser\")\n",
        "data = soup.findAll('a', href=True, attrs={'class': '_1fQZEK'})\n",
        "\n",
        "for i in data:\n",
        "    pName = i.find('div', attrs={'class': '_4rR01T'})\n",
        "    pRating = i.find('div', attrs={'class': '_3LWZlK'})\n",
        "    \n",
        "    pPrice = i.find('div', attrs={'class': '_30jeq3 _1_WHN1'})\n",
        "\n",
        "    PhoneName.append(pName.text)\n",
        "    PhoneRating.append(pRating.text)\n",
        "    \n",
        "    Price.append(pPrice.text)\n",
        "\n",
        "df = pd.DataFrame({'Phone Name': PhoneName, 'Rating': PhoneRating, 'Price': Price})\n",
        "print(df)\n",
        "df.to_csv('asu.csv', index=False, encoding='utf-8')"
      ]
    }
  ]
}